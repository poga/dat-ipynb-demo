{
 "cells": [
  {
   "cell_type": "code",
   "execution_count": 1,
   "metadata": {
    "collapsed": false
   },
   "outputs": [
    {
     "data": {
      "text/plain": [
       "undefined"
      ]
     },
     "execution_count": 1,
     "metadata": {},
     "output_type": "execute_result"
    },
    {
     "name": "stdout",
     "output_type": "stream",
     "text": [
      "[ 663844 ]\n"
     ]
    }
   ],
   "source": [
    "const spark = require('hyperspark')\n",
    "\n",
    "var rdd = spark('5865fefce83844806eb5870862b841bc64d58fbe1564a7447411bc1f89850f9e')\n",
    "\n",
    "rdd.get('uber-raw-data-jun14.csv').csv().count().toArray(res => {\n",
    "  console.log(res)\n",
    "})\n"
   ]
  }
 ],
 "metadata": {
  "kernelspec": {
   "display_name": "Javascript (Node.js)",
   "language": "javascript",
   "name": "javascript"
  },
  "language_info": {
   "file_extension": ".js",
   "mimetype": "application/javascript",
   "name": "javascript",
   "version": "7.2.1"
  }
 },
 "nbformat": 4,
 "nbformat_minor": 1
}
