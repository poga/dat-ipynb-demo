{
 "cells": [
  {
   "cell_type": "code",
   "execution_count": 1,
   "metadata": {
    "collapsed": false
   },
   "outputs": [
    {
     "data": {
      "text/plain": [
       "undefined"
      ]
     },
     "execution_count": 1,
     "metadata": {},
     "output_type": "execute_result"
    }
   ],
   "source": [
    "const key = '5865fefce83844806eb5870862b841bc64d58fbe1564a7447411bc1f89850f9e'\n",
    "\n",
    "const hd = require('hyperdrive')\n",
    "const memdb = require('memdb')\n",
    "const {RDD, kv} = require('dat-transform')\n",
    "const swarm = require('hyperdrive-archive-swarm')"
   ]
  },
  {
   "cell_type": "code",
   "execution_count": 2,
   "metadata": {
    "collapsed": false
   },
   "outputs": [
    {
     "name": "stderr",
     "output_type": "stream",
     "text": [
      "(node:44664) DeprecationWarning: Using Buffer without `new` will soon stop working. Use `new Buffer()`, or preferably `Buffer.from()`, `Buffer.allocUnsafe()` or `Buffer.alloc()` instead.\n"
     ]
    },
    {
     "data": {
      "text/plain": [
       "0"
      ]
     },
     "execution_count": 2,
     "metadata": {},
     "output_type": "execute_result"
    }
   ],
   "source": [
    "var drive = hd(memdb())\n",
    "var archive = drive.createArchive(key, {sparse: true})\n",
    "swarm(archive)\n",
    "0;"
   ]
  },
  {
   "cell_type": "code",
   "execution_count": 3,
   "metadata": {
    "collapsed": false
   },
   "outputs": [
    {
     "data": {
      "text/plain": [
       "undefined"
      ]
     },
     "execution_count": 3,
     "metadata": {},
     "output_type": "execute_result"
    }
   ],
   "source": [
    "var rdd = RDD(archive)\n",
    "    .select(x => x.name === 'uber-raw-data-jul14.csv')\n",
    "    .csv()"
   ]
  },
  {
   "cell_type": "code",
   "execution_count": 4,
   "metadata": {
    "collapsed": false
   },
   "outputs": [
    {
     "data": {
      "text/plain": [
       "undefined"
      ]
     },
     "execution_count": 4,
     "metadata": {},
     "output_type": "execute_result"
    },
    {
     "name": "stdout",
     "output_type": "stream",
     "text": [
      "[ { B02512: 35021,\n",
      "    B02598: 245597,\n",
      "    B02617: 310160,\n",
      "    B02682: 196754,\n",
      "    B02764: 8589 } ]\n"
     ]
    }
   ],
   "source": [
    "rdd\n",
    "    .map(row => kv(row['Base'], 1))\n",
    "    .reduceByKey((x, y) => x + y).toArray(res => {\n",
    "        console.log(res)\n",
    "    })"
   ]
  }
 ],
 "metadata": {
  "kernelspec": {
   "display_name": "Javascript (Node.js)",
   "language": "javascript",
   "name": "javascript"
  },
  "language_info": {
   "file_extension": ".js",
   "mimetype": "application/javascript",
   "name": "javascript",
   "version": "7.1.0"
  }
 },
 "nbformat": 4,
 "nbformat_minor": 1
}
